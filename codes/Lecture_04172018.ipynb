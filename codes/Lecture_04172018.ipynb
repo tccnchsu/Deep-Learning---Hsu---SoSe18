{
 "cells": [
  {
   "cell_type": "code",
   "execution_count": 1,
   "metadata": {},
   "outputs": [],
   "source": [
    "#Chih-Yu Hsu mail to: tccnchsu@gmail.com\n",
    "#http://tccnchsu.blogspot.tw/\n",
    "# http://www.scipy-lectures.org/advanced/image_processing/\n",
    "from scipy import ndimage\n",
    "import matplotlib.pyplot as plt\n",
    "import matplotlib.image as mpimg\n",
    "from matplotlib.colors import NoNorm\n",
    "import pylab\n",
    "from scipy import misc\n",
    "import numpy as np"
   ]
  },
  {
   "cell_type": "code",
   "execution_count": 2,
   "metadata": {},
   "outputs": [],
   "source": [
    "#http://scikit-image.org/docs/dev/user_guide/transforming_image_data.html\n",
    "#im_image = np.uint8(100*np.ones((28, 28)))\n",
    "#im_image =100.*np.ones((28,28), dtype=np.float32)"
   ]
  },
  {
   "cell_type": "code",
   "execution_count": 71,
   "metadata": {},
   "outputs": [
    {
     "name": "stdout",
     "output_type": "stream",
     "text": [
      "[[False False False False False False False False False False False False\n",
      "  False False False False False False False False False False False False\n",
      "  False False False False]\n",
      " [False False False False False False False False False False False False\n",
      "  False False False False False False False False False False False False\n",
      "  False False False False]\n",
      " [False False False False False False False False False False False False\n",
      "  False False False False False False False False False False False False\n",
      "  False False False False]\n",
      " [False False False False False False False False False False False False\n",
      "  False False False False False False False False False False False False\n",
      "  False False False False]\n",
      " [False False False False False False False False False False False False\n",
      "  False False False False False False False False False False False False\n",
      "  False False False False]\n",
      " [False False False False False False False False False False False False\n",
      "  False False False False False False False False False False False False\n",
      "  False False False False]\n",
      " [False False False False False False False False False False False False\n",
      "  False False False False False False False False False False False False\n",
      "  False False False False]\n",
      " [False False False False False False False False False False False False\n",
      "  False False False False False False False False False False False False\n",
      "  False False False False]\n",
      " [False False False False False False False False False False False False\n",
      "  False False False False False False False False False False False False\n",
      "  False False False False]\n",
      " [False False False False False False False False False False False False\n",
      "  False False False False False False False False False False False False\n",
      "  False False False False]\n",
      " [False False False False False False False False False False  True  True\n",
      "   True  True  True  True  True  True  True  True False False False False\n",
      "  False False False False]\n",
      " [False False False False False False False False False False  True  True\n",
      "   True  True  True  True  True  True  True  True False False False False\n",
      "  False False False False]\n",
      " [False False False False False False False False False False  True  True\n",
      "   True  True  True  True  True  True  True  True False False False False\n",
      "  False False False False]\n",
      " [False False False False False False False False False False  True  True\n",
      "   True  True  True  True  True  True  True  True False False False False\n",
      "  False False False False]\n",
      " [False False False False False False False False False False  True  True\n",
      "   True  True  True  True  True  True  True  True False False False False\n",
      "  False False False False]\n",
      " [False False False False False False False False False False  True  True\n",
      "   True  True  True  True  True  True  True  True False False False False\n",
      "  False False False False]\n",
      " [False False False False False False False False False False  True  True\n",
      "   True  True  True  True  True  True  True  True False False False False\n",
      "  False False False False]\n",
      " [False False False False False False False False False False  True  True\n",
      "   True  True  True  True  True  True  True  True False False False False\n",
      "  False False False False]\n",
      " [False False False False False False False False False False  True  True\n",
      "   True  True  True  True  True  True  True  True False False False False\n",
      "  False False False False]\n",
      " [False False False False False False False False False False  True  True\n",
      "   True  True  True  True  True  True  True  True False False False False\n",
      "  False False False False]\n",
      " [False False False False False False False False False False False False\n",
      "  False False False False False False False False False False False False\n",
      "  False False False False]\n",
      " [False False False False False False False False False False False False\n",
      "  False False False False False False False False False False False False\n",
      "  False False False False]\n",
      " [False False False False False False False False False False False False\n",
      "  False False False False False False False False False False False False\n",
      "  False False False False]\n",
      " [False False False False False False False False False False False False\n",
      "  False False False False False False False False False False False False\n",
      "  False False False False]\n",
      " [False False False False False False False False False False False False\n",
      "  False False False False False False False False False False False False\n",
      "  False False False False]\n",
      " [False False False False False False False False False False False False\n",
      "  False False False False False False False False False False False False\n",
      "  False False False False]\n",
      " [False False False False False False False False False False False False\n",
      "  False False False False False False False False False False False False\n",
      "  False False False False]\n",
      " [False False False False False False False False False False False False\n",
      "  False False False False False False False False False False False False\n",
      "  False False False False]]\n",
      "bool\n"
     ]
    },
    {
     "data": {
      "image/png": "[encoded data removed]",
      "text/plain": [
       "<Figure size 1080x1080 with 3 Axes>"
      ]
     },
     "metadata": {},
     "output_type": "display_data"
    }
   ],
   "source": [
    "im_image =100*np.ones((28,28), dtype=np.uint8)\n",
    "im_image[10:20, 10:20] = 200\n",
    "plt.figure(num=0,figsize=(15,15))\n",
    "plt.subplot(131)\n",
    "#plt.gray()\n",
    "#plt.imshow(im_image , cmap='gray', norm=NoNorm())\n",
    "plt.title('FIG1 original image')\n",
    "plt.imshow(im_image , cmap=plt.cm.gray , norm=NoNorm())\n",
    "#plt.imshow(im_image , cmap=plt.cm.gray, norm=NoNorm())\n",
    "#plt.show()\n",
    "# Store data to disk\n",
    "#plt.imsave('C:/pythonwork/images/Pimage1.png', im_image) # uses the Image module (PIL)\n",
    "#convert image (np.array) to binary image\n",
    "#https://stackoverflow.com/questions/40449781/convert-image-np-array-to-binary-image\n",
    "im_truth_label=im_image>120  \n",
    "plt.subplot(132)\n",
    "plt.imshow(im_truth_label , cmap=plt.cm.gray)\n",
    "plt.title('FIG2 Golden truth binary image')\n",
    "im_segmented_label=im_image>120\n",
    "print(im_segmented_label)\n",
    "print(im_segmented_label.dtype)\n",
    "im_segmented_label[15,15]=False\n",
    "#im_label=np.zeros((28,28), dtype=bool)\n",
    "#im_label[1:3, 1:3] =np.array([[True, True] , [True, True]])\n",
    "plt.subplot(133)\n",
    "plt.imshow(im_segmented_label, cmap=plt.cm.gray)\n",
    "plt.title('FIG3 segmented result with binary image')\n",
    "plt.show()\n",
    "# Store data to disk\n",
    "#plt.imsave('C:/pythonwork/labels/Plabel1.png', im_label) # uses the Image module (PIL)\n"
   ]
  },
  {
   "cell_type": "code",
   "execution_count": 87,
   "metadata": {},
   "outputs": [
    {
     "name": "stdout",
     "output_type": "stream",
     "text": [
      "[[ True  True  True  True  True  True  True  True  True  True]\n",
      " [ True  True  True  True  True  True  True  True  True  True]\n",
      " [ True  True  True  True  True  True  True  True  True  True]\n",
      " [ True  True  True  True  True  True  True  True  True  True]\n",
      " [ True  True  True  True  True  True  True  True  True  True]\n",
      " [ True  True  True  True  True  True  True  True  True  True]\n",
      " [ True  True  True  True  True  True  True  True  True  True]\n",
      " [ True  True  True  True  True  True  True  True  True  True]\n",
      " [ True  True  True  True  True  True  True  True  True  True]\n",
      " [ True  True  True  True  True  True  True  True  True  True]]\n",
      "[[ True  True  True  True  True  True  True  True  True  True]\n",
      " [ True  True  True  True  True  True  True  True  True  True]\n",
      " [ True  True  True  True  True  True  True  True  True  True]\n",
      " [ True  True  True  True  True  True  True  True  True  True]\n",
      " [ True  True  True  True  True  True  True  True  True  True]\n",
      " [ True  True  True  True  True False  True  True  True  True]\n",
      " [ True  True  True  True  True  True  True  True  True  True]\n",
      " [ True  True  True  True  True  True  True  True  True  True]\n",
      " [ True  True  True  True  True  True  True  True  True  True]\n",
      " [ True  True  True  True  True  True  True  True  True  True]]\n"
     ]
    },
    {
     "data": {
      "image/png": "[encoded data removed]",
      "text/plain": [
       "<Figure size 1080x1080 with 2 Axes>"
      ]
     },
     "metadata": {},
     "output_type": "display_data"
    }
   ],
   "source": [
    "#dice similarity coefficient(index)\n",
    "#https://en.wikipedia.org/wiki/S%C3%B8rensen%E2%80%93Dice_coefficient\n",
    "# A is the white region in FIG2 and it is Region Of Interest (ROI)\n",
    "# B is the white region in FIG3 and it is segmented result\n",
    "\n",
    "\n",
    "plt.figure(num=1,figsize=(15,15))\n",
    "plt.subplot(121)\n",
    "A=im_truth_label[10:20,10:20]\n",
    "print(A)\n",
    "plt.imshow(A, cmap=plt.cm.binary)\n",
    "plt.title('A')\n",
    "plt.subplot(122)\n",
    "B=im_segmented_label[10:20,10:20]\n",
    "print(B)\n",
    "plt.imshow(B, cmap=plt.cm.gray)\n",
    "plt.title('B')\n",
    "plt.show()"
   ]
  },
  {
   "cell_type": "code",
   "execution_count": 88,
   "metadata": {},
   "outputs": [
    {
     "name": "stdout",
     "output_type": "stream",
     "text": [
      "[[ True  True  True  True  True  True  True  True  True  True]\n",
      " [ True  True  True  True  True  True  True  True  True  True]\n",
      " [ True  True  True  True  True  True  True  True  True  True]\n",
      " [ True  True  True  True  True  True  True  True  True  True]\n",
      " [ True  True  True  True  True  True  True  True  True  True]\n",
      " [ True  True  True  True  True False  True  True  True  True]\n",
      " [ True  True  True  True  True  True  True  True  True  True]\n",
      " [ True  True  True  True  True  True  True  True  True  True]\n",
      " [ True  True  True  True  True  True  True  True  True  True]\n",
      " [ True  True  True  True  True  True  True  True  True  True]]\n"
     ]
    },
    {
     "data": {
      "image/png": "[encoded data removed]",
      "text/plain": [
       "<Figure size 432x288 with 1 Axes>"
      ]
     },
     "metadata": {},
     "output_type": "display_data"
    }
   ],
   "source": [
    "# C=A&&B\n",
    "C=np.logical_and(A,B)\n",
    "print(C)\n",
    "plt.imshow(B, cmap=plt.cm.gray)\n",
    "plt.title('B')\n",
    "plt.show()"
   ]
  },
  {
   "cell_type": "code",
   "execution_count": 101,
   "metadata": {},
   "outputs": [
    {
     "name": "stdout",
     "output_type": "stream",
     "text": [
      "|A&&B|=99\n"
     ]
    }
   ],
   "source": [
    " NO_A_and_B=np.count_nonzero(C)\n",
    " print('|A&&B|='+ str(NO_A_and_B))"
   ]
  },
  {
   "cell_type": "code",
   "execution_count": 100,
   "metadata": {},
   "outputs": [
    {
     "name": "stdout",
     "output_type": "stream",
     "text": [
      "10\n",
      "10\n",
      "|A|=100\n",
      "10\n",
      "10\n",
      "|B|=100\n"
     ]
    }
   ],
   "source": [
    "ra,ca=A.shape\n",
    "print(ra)\n",
    "print(ca)\n",
    "print('|A|='+ str(ra*ca))\n",
    "rb,cb=B.shape\n",
    "print(rb)\n",
    "print(cb)\n",
    "print('|B|='+ str(rb*cb))"
   ]
  },
  {
   "cell_type": "code",
   "execution_count": 115,
   "metadata": {},
   "outputs": [
    {
     "name": "stdout",
     "output_type": "stream",
     "text": [
      "DSC0.99\n"
     ]
    }
   ],
   "source": [
    "DSC=2*NO_A_and_B/(ra*ca+rb*cb)\n",
    "print('DSC'+str(DSC))"
   ]
  },
  {
   "cell_type": "code",
   "execution_count": 137,
   "metadata": {},
   "outputs": [
    {
     "name": "stdout",
     "output_type": "stream",
     "text": [
      "[False, False, False, True, True, False]\n",
      "[False, False, False, False, True, False]\n",
      "[0 0 0 1 1 0]\n",
      "[0 0 0 0 1 0]\n",
      "[False False False False  True False]\n",
      "[0 0 0 0 1 0]\n",
      "|A&&B|=1\n",
      "|A|=6\n",
      "|B|=6\n",
      "DSC0.16666666666666666\n"
     ]
    },
    {
     "data": {
      "text/plain": [
       "0.16666666666666666"
      ]
     },
     "execution_count": 137,
     "metadata": {},
     "output_type": "execute_result"
    }
   ],
   "source": [
    "lone = True\n",
    "lzero=False\n",
    "n1=int(bool(lone))\n",
    "n0=int(bool(lzero))\n",
    "LAV=[lzero,lzero,lzero,lone,lone,lzero]\n",
    "LBV=[lzero,lzero,lzero,lzero,lone,lzero]\n",
    "print(LAV)\n",
    "print(LBV)\n",
    "AV=np.array([n0,n0,n0,n1,n1,n0])\n",
    "BV=np.array([n0,n0,n0,n0,n1,n0])\n",
    "print(AV) #truth\n",
    "print(BV) #segmented\n",
    "A_and_B=np.logical_and(LAV,LBV)\n",
    "print(A_and_B)\n",
    "no_A_and_B=A_and_B.astype(int) \n",
    "print(no_A_and_B)\n",
    "\n",
    "NO_A_and_B=np.count_nonzero(A_and_B)\n",
    "print('|A&&B|='+ str(NO_A_and_B))\n",
    "NOA=len(AV)\n",
    "print('|A|='+ str(NOA))\n",
    "NOB=len(BV)\n",
    "print('|B|='+ str(NOB))\n",
    "DSC=2*NO_A_and_B/(NOA+NOB)\n",
    "print('DSC'+str(DSC))\n",
    "1/6"
   ]
  },
  {
   "cell_type": "code",
   "execution_count": 124,
   "metadata": {},
   "outputs": [],
   "source": [
    "# Store data to disk, and load it again:\n",
    "#>>> np.save('/tmp/123', np.array([[1, 2, 3], [4, 5, 6]]))\n",
    "#>>> np.load('/tmp/123.npy')\n",
    "#array([[1, 2, 3],\n",
    "#       [4, 5, 6]])\n",
    "\n",
    "#arr = np.array(img) transform image to array\n",
    "#arr = img.load() load array\n",
    "#a=np.ones(10, dtype=bool)\n",
    "#https://matplotlib.org/users/image_tutorial.html\n",
    "#https://stackoverflow.com/questions/3823752/display-image-as-grayscale-using-matplotlib/11603881\n"
   ]
  },
  {
   "cell_type": "code",
   "execution_count": null,
   "metadata": {},
   "outputs": [],
   "source": []
  }
 ],
 "metadata": {
  "kernelspec": {
   "display_name": "Python 3",
   "language": "python",
   "name": "python3"
  },
  "language_info": {
   "codemirror_mode": {
    "name": "ipython",
    "version": 3
   },
   "file_extension": ".py",
   "mimetype": "text/x-python",
   "name": "python",
   "nbconvert_exporter": "python",
   "pygments_lexer": "ipython3",
   "version": "3.6.4"
  }
 },
 "nbformat": 4,
 "nbformat_minor": 2
}
