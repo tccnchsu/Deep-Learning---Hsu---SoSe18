{
 "cells": [
  {
   "cell_type": "code",
   "execution_count": 36,
   "metadata": {},
   "outputs": [],
   "source": [
    "# The PERCEPTION\n",
    "# Single -Layer networks with threshold activation functions, were studied by Rossen-blatt (1962) who called them perceptrons\n",
    "# Reference: Bishop: Pattern Recognition and Machine Learning Page 82,231 Oreilly-Learning-TensorFlow page 98\n",
    "# Book: https://raw.githubusercontent.com/oreilly-japan/deep-learning-from-scratch/images/deep-learning-from-scratch.png\n",
    "# O'Reilly Japan - GitHub\n",
    "# https://github.com/oreilly-japan/deep-learning-from-scratch\n",
    "#Exercise 5.\n",
    "# Run code1\n",
    "# 2.3.1 AND Gate\n",
    "# https://github.com/oreilly-japan/deep-learning-from-scratch/blob/master/ch02/and_gate.py"
   ]
  },
  {
   "cell_type": "code",
   "execution_count": 37,
   "metadata": {},
   "outputs": [],
   "source": [
    "#Binary Classification/Logistic Regression\n",
    "# Reference: Bishop: Pattern Recognition and Machine Learning Page 82,231 Oreilly-Learning-TensorFlow page 82-85\n",
    "# 3.1.3 Logistic discrimination \n",
    "# 3.1.4 Binary in put vectors\n",
    "# Assumptions: statistically individual independent distribution iid \n",
    "# =>The probability for complete input vector as the product of the probabilities for each of the components separately"
   ]
  },
  {
   "cell_type": "code",
   "execution_count": 38,
   "metadata": {},
   "outputs": [],
   "source": [
    "# MatPlotlib\n",
    "import matplotlib.pyplot as plt\n",
    "from matplotlib import pylab\n",
    "\n",
    "# Scientific libraries\n",
    "import numpy as np"
   ]
  },
  {
   "cell_type": "code",
   "execution_count": 39,
   "metadata": {},
   "outputs": [
    {
     "data": {
      "image/png": "[encoded data removed]",
      "text/plain": [
       "<Figure size 432x288 with 1 Axes>"
      ]
     },
     "metadata": {},
     "output_type": "display_data"
    }
   ],
   "source": [
    "#The use of the logistic sigmoid activation function allows the outputs\n",
    "#of the discriminant to be interpreted as posterior probabilities P(Xi|X), i=0,1\n",
    "#Logistic sigmoid activation function\n",
    "# Reference: Bishop: Pattern Recognition and Machine Learning Page 82,231 Oreilly-Learning-TensorFlow\n",
    "\n",
    "x = np.linspace(-6.0, 6.0, 100)\n",
    "y=1/(1+np.exp(-x))\n",
    "plt.plot(x, y)\n",
    "plt.xlabel('a')\n",
    "plt.ylabel('g(a)',rotation=0)\n",
    "plt.xlim(-5, 5)\n",
    "plt.title('Logistic sigmoid activation function')\n",
    "plt.show()\n",
    "\n"
   ]
  },
  {
   "cell_type": "code",
   "execution_count": 40,
   "metadata": {},
   "outputs": [
    {
     "ename": "SyntaxError",
     "evalue": "invalid syntax (<ipython-input-40-dc6d539fd33d>, line 8)",
     "output_type": "error",
     "traceback": [
      "\u001b[1;36m  File \u001b[1;32m\"<ipython-input-40-dc6d539fd33d>\"\u001b[1;36m, line \u001b[1;32m8\u001b[0m\n\u001b[1;33m    P(C0|X)=P(X|C0)P(C0)/(P(X|C0)P(C0)+P(X|C1)P(C1))\u001b[0m\n\u001b[1;37m                   ^\u001b[0m\n\u001b[1;31mSyntaxError\u001b[0m\u001b[1;31m:\u001b[0m invalid syntax\n"
     ]
    }
   ],
   "source": [
    "#  2D dispersion around the centroid,\n",
    "#numpy.random.multivariate_normal\n",
    "#https://docs.scipy.org/doc/numpy/reference/generated/numpy.random.multivariate_normal.html\n",
    "#The use of the logistic sigmoid activation function allows the outputs g(WX+W0)\n",
    "#of the discriminant to be interpreted as posterior probabilities P(Xi|X), i=0,1    \n",
    "\n",
    "# Baye's Theorem\n",
    "P(C0|X)=P(X|C0)P(C0)/(P(X|C0)P(C0)+P(X|C1)P(C1))\n",
    "P(C1|X)=P(X|C1)P(C1)/(P(X|C0)P(C0)+P(X|C1)P(C1))\n",
    "\n",
    "\n",
    "# Plot of the logistic sigmoid activation function given by g(a)=1/(1+exp(-a))\n",
    "plt.figure(1)    \n",
    "\n",
    "mean0 = [0, 0]\n",
    "cov0 = [[1, 0], [0, 1]]  # diagonal covariance\n",
    "x01, x02 = np.random.multivariate_normal(mean0, cov0, 5000).T\n",
    "plt.plot(x01, x02, 'x')\n",
    "plt.axis('equal')\n",
    "\n",
    "mean1 = [6, 6]\n",
    "cov1 = [[1, 0], [0, 1]]  # diagonal covariance\n",
    "x11, x12 = np.random.multivariate_normal(mean1, cov1, 5000).T\n",
    "plt.plot(x11, x12, 'ro')\n",
    "plt.axis('equal')\n",
    "plt.grid(True)\n",
    "\n",
    "#Use our eyes \n",
    "# Two points decide a line\n",
    "x = np.array([0.0, 6.0])\n",
    "y = np.array([6.0, 0.0])\n",
    "plt.plot(x,y) #pylab.plot(x, y)\n",
    "plt.show()"
   ]
  },
  {
   "cell_type": "code",
   "execution_count": 41,
   "metadata": {},
   "outputs": [],
   "source": [
    "#Exercise 1.\n",
    "#Try to find a line to separate these two group points to two class\n",
    "#and define the line equation and draw it on the same graphs."
   ]
  },
  {
   "cell_type": "code",
   "execution_count": 42,
   "metadata": {},
   "outputs": [],
   "source": [
    "#Exercise 2.\n",
    "#According to the line equation and please define a discriminant function f(X),\n",
    "#and calculate the value of f(X) for every X.A capital letter represents vector and a lowercase letter represents a variable."
   ]
  },
  {
   "cell_type": "code",
   "execution_count": 43,
   "metadata": {},
   "outputs": [],
   "source": [
    "# 2D dispersion around the centroid,\n",
    "#Exercise 3.\n",
    "#To characterize the amount of sigma of 2D dispersion around the centroid (mean) \n",
    "\n",
    "# search Google: keywords: calculate 2d data mean variance/ python  2d data mean variance\n",
    "# reference\n",
    "#https://en.wikipedia.org/wiki/Algorithms_for_calculating_variance\n",
    "# https://stats.stackexchange.com/questions/65640/how-to-calculate-2d-standard-deviation-with-0-mean-bounded-by-limits\n",
    "#https://math.stackexchange.com/questions/819747/measuring-variance-of-2d-data-points\n",
    "# https://www.mathworks.com/help/matlab/ref/var.html"
   ]
  },
  {
   "cell_type": "code",
   "execution_count": 44,
   "metadata": {},
   "outputs": [],
   "source": [
    "# Baye's Theorem\n",
    "# a lowercase letter p represents distribution, and capital letter P represents probability \n",
    "#p(C0|X)=p(X|C0)P(C0)/(P(X|C0)P(C0)+p(X|C1)P(C1))\n",
    "#p(C1|X)=p(X|C1)P(C1)/(P(X|C0)P(C0)+p(X|C1)P(C1))\n",
    "#Exercise 4.\n",
    "# Calculate posterior probabilities P(Xi|X), i=0,1"
   ]
  },
  {
   "cell_type": "code",
   "execution_count": 45,
   "metadata": {},
   "outputs": [],
   "source": [
    "# The PERCEPTION\n",
    "# Single -Layer networks with threshold activation functions, were studied by Rossen-blatt (1962) who called them perceptrons\n",
    "# Reference: Bishop: Pattern Recognition and Machine Learning Page 82,231 Oreilly-Learning-TensorFlow page 98\n",
    "# Book: https://raw.githubusercontent.com/oreilly-japan/deep-learning-from-scratch/images/deep-learning-from-scratch.png\n",
    "# O'Reilly Japan - GitHub\n",
    "# https://github.com/oreilly-japan/deep-learning-from-scratch\n",
    "#Exercise 5.\n",
    "# Run code1\n",
    "# 2.3.1 AND Gate\n",
    "# https://github.com/oreilly-japan/deep-learning-from-scratch/blob/master/ch02/and_gate.py"
   ]
  },
  {
   "cell_type": "code",
   "execution_count": 46,
   "metadata": {},
   "outputs": [],
   "source": [
    "# Oreilly-Learning-TensorFlow\n",
    "# https://github.com/Hezi-Resheff/Oreilly-Learning-TensorFlow\n",
    "#Exercise 6.\n",
    "\n",
    "# Softmax Regression\n",
    "# Run code1\n",
    "# https://github.com/Hezi-Resheff/Oreilly-Learning-TensorFlow/blob/master/02__up_and_running/softmax.py\n",
    "# Run code2\n",
    "# Google tutorial: MNIST For ML Beginners\n",
    "# https://www.tensorflow.org/versions/r1.1/get_started/mnist/beginners"
   ]
  },
  {
   "cell_type": "code",
   "execution_count": null,
   "metadata": {},
   "outputs": [],
   "source": []
  },
  {
   "cell_type": "code",
   "execution_count": null,
   "metadata": {},
   "outputs": [],
   "source": []
  }
 ],
 "metadata": {
  "kernelspec": {
   "display_name": "Python 3",
   "language": "python",
   "name": "python3"
  },
  "language_info": {
   "codemirror_mode": {
    "name": "ipython",
    "version": 3
   },
   "file_extension": ".py",
   "mimetype": "text/x-python",
   "name": "python",
   "nbconvert_exporter": "python",
   "pygments_lexer": "ipython3",
   "version": "3.6.4"
  }
 },
 "nbformat": 4,
 "nbformat_minor": 2
}
